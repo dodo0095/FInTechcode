{
 "cells": [
  {
   "cell_type": "code",
   "execution_count": null,
   "metadata": {
    "collapsed": true
   },
   "outputs": [],
   "source": [
    "# step1. import package \n",
    "import requests\n",
    "import pandas as pd\n",
    "import numpy as np\n",
    "from io import StringIO\n",
    "\n",
    "# step2. 進入目標網站,爬取盤後資訊\n",
    "date = '20180606'\n",
    "r = requests.post('http://www.twse.com.tw/exchangeReport/MI_INDEX?response=csv&date=' + date + '&type=ALL')\n",
    "\n",
    "# step3. 篩選出個股盤後資訊\n",
    "str_list = []\n",
    "for i in r.text.split('\\n'):\n",
    "    if len(i.split('\",')) == 17 and i[0] != '=':       \n",
    "        i = i.strip(\",\\r\\n\")\n",
    "        str_list.append(i)      \n",
    "\n",
    "# step4. 印出選股資訊\n",
    "df = pd.read_csv(StringIO(\"\\n\".join(str_list)))  \n",
    "pd.set_option('display.max_rows', None)\n",
    "#df.head(150)"
   ]
  }
 ],
 "metadata": {
  "kernelspec": {
   "display_name": "Python 3",
   "language": "python",
   "name": "python3"
  },
  "language_info": {
   "codemirror_mode": {
    "name": "ipython",
    "version": 3
   },
   "file_extension": ".py",
   "mimetype": "text/x-python",
   "name": "python",
   "nbconvert_exporter": "python",
   "pygments_lexer": "ipython3",
   "version": "3.6.3"
  }
 },
 "nbformat": 4,
 "nbformat_minor": 2
}
